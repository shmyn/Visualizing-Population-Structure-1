{
 "cells": [
  {
   "cell_type": "markdown",
   "id": "eae5538d",
   "metadata": {},
   "source": [
    "# 우리 동네 인구 구조 시각화하기"
   ]
  },
  {
   "cell_type": "markdown",
   "id": "3f72fb95",
   "metadata": {},
   "source": [
    "## 1. 인구 공공데이터 내려받기\n",
    "행정안전부 홈페이지에서 csv 파일을 다운받음."
   ]
  },
  {
   "cell_type": "markdown",
   "id": "062a29da",
   "metadata": {},
   "source": [
    "## 2. 인구 데이터 살펴보고 질문하기\n",
    "관심 있는 지역을 읍면동 단위로 검색한다. 나는 경기도 성남시 중원구 은행2동(4113356000)의 데이터를 살펴보겠다."
   ]
  },
  {
   "cell_type": "markdown",
   "id": "d25c0cea",
   "metadata": {},
   "source": [
    "- 세로축은 나이, 가로축은 인구수를 나타낼 것이다."
   ]
  },
  {
   "cell_type": "code",
   "execution_count": null,
   "id": "09142961",
   "metadata": {},
   "outputs": [],
   "source": [
    "#1. 인구 데이터 파일을 읽어온다.\n",
    "import csv\n",
    "\n",
    "f = open('age.csv')\n",
    "data = csv.reader(f)\n",
    "\n",
    "#2. 전체 데이터에서 한 줄씩 반복해서 읽어온다.\n",
    "for row in data:\n",
    "    print(row)"
   ]
  },
  {
   "cell_type": "markdown",
   "id": "d351261a",
   "metadata": {},
   "source": [
    "위 코드를 실행하면\n",
    "['행정구역', '2022년11월_계_총인구수', '2022년11월_계_연령구간인구수', '2022년11월_계_0세', '2022년11월_계_1세', '2022년11월_계_2세', '2022년11월_계_3세', '2022년11월_계_4세', '2022년11월_계_5세', '2022년11월_계_6세', '2022년11월_계_7세', '2022년11월_계_8세', '2022년11월_계_9세', '2022년11월_계_10세', '2022년11월_계_11세', '2022년11월_계_12세', '2022년11월_계_13세', '2022년11월_계_14세', '2022년11월_계_15세', '2022년11월_계_16세', '2022년11월_계_17세', '2022년11월_계_18세', '2022년11월_계_19세', '2022년11월_계_20세', '2022년11월_계_21세', '2022년11월_계_22세', '2022년11월_계_23세', '2022년11월_계_24세', '2022년11월_계_25세', '2022년11월_계_26세', '2022년11월_계_27세', '2022년11월_계_28세', '2022년11월_계_29세', '2022년11월_계_30세', '2022년11월_계_31세', '2022년11월_계_32세', '2022년11월_계_33세', '2022년11월_계_34세', '2022년11월_계_35세', '2022년11월_계_36세', '2022년11월_계_37세', '2022년11월_계_38세', '2022년11월_계_39세', ...]\n",
    "와 같은 리스트가 나온다."
   ]
  },
  {
   "cell_type": "code",
   "execution_count": 9,
   "id": "5cbd7091",
   "metadata": {},
   "outputs": [
    {
     "name": "stdout",
     "output_type": "stream",
     "text": [
      "['경기도 성남시 중원구 은행2동(4113356000)', '23,282', '23,282', '86', '98', '81', '73', '103', '101', '111', '136', '117', '142', '154', '154', '177', '139', '135', '193', '161', '175', '219', '214', '241', '264', '317', '322', '312', '333', '337', '354', '391', '432', '398', '345', '310', '284', '286', '274', '268', '261', '257', '296', '290', '325', '344', '301', '254', '302', '300', '337', '378', '421', '422', '436', '426', '457', '432', '430', '429', '419', '395', '413', '413', '450', '471', '407', '342', '371', '334', '351', '309', '266', '255', '187', '200', '231', '216', '244', '170', '173', '161', '171', '167', '143', '102', '109', '104', '71', '79', '48', '52', '20', '31', '20', '23', '5', '9', '4', '5', '3', '1', '2', '0']\n"
     ]
    }
   ],
   "source": [
    "#3. 우리 동네에 대한 데이터인지 확인한다.\n",
    "import csv\n",
    "f = open('age.csv')\n",
    "data = csv.reader(f)\n",
    "for row in data:\n",
    "    if '경기도 성남시 중원구 은행2동(4113356000)' == row[0] :\n",
    "        print(row)        "
   ]
  },
  {
   "cell_type": "code",
   "execution_count": 14,
   "id": "a785a0d9",
   "metadata": {},
   "outputs": [
    {
     "name": "stdout",
     "output_type": "stream",
     "text": [
      "True\n",
      "True\n",
      "False\n"
     ]
    }
   ],
   "source": [
    "print('은행2동' in '경기도 성남시 중원구 은행2동(4113356000)')\n",
    "print('4113356000' in '경기도 성남시 중원구 은행2동(4113356000)')\n",
    "print('은행2동' in 'hi brother')"
   ]
  },
  {
   "cell_type": "markdown",
   "id": "9d60b723",
   "metadata": {},
   "source": [
    "이 불리언 자료형을 이용하여"
   ]
  },
  {
   "cell_type": "code",
   "execution_count": 15,
   "id": "0e44e011",
   "metadata": {},
   "outputs": [
    {
     "name": "stdout",
     "output_type": "stream",
     "text": [
      "['경기도 성남시 중원구 은행2동(4113356000)', '23,282', '23,282', '86', '98', '81', '73', '103', '101', '111', '136', '117', '142', '154', '154', '177', '139', '135', '193', '161', '175', '219', '214', '241', '264', '317', '322', '312', '333', '337', '354', '391', '432', '398', '345', '310', '284', '286', '274', '268', '261', '257', '296', '290', '325', '344', '301', '254', '302', '300', '337', '378', '421', '422', '436', '426', '457', '432', '430', '429', '419', '395', '413', '413', '450', '471', '407', '342', '371', '334', '351', '309', '266', '255', '187', '200', '231', '216', '244', '170', '173', '161', '171', '167', '143', '102', '109', '104', '71', '79', '48', '52', '20', '31', '20', '23', '5', '9', '4', '5', '3', '1', '2', '0']\n"
     ]
    }
   ],
   "source": [
    "import csv\n",
    "f = open('age.csv')\n",
    "data = csv.reader(f)\n",
    "\n",
    "for row in data:\n",
    "    if '은행2동' in row[0]:\n",
    "        print(row)"
   ]
  },
  {
   "cell_type": "code",
   "execution_count": 22,
   "id": "dbd72e44",
   "metadata": {},
   "outputs": [
    {
     "name": "stdout",
     "output_type": "stream",
     "text": [
      "101 개 구간이 출력됩니다.\n",
      ">\n",
      "86\n",
      "98\n",
      "81\n",
      "73\n",
      "103\n",
      "101\n",
      "111\n",
      "136\n",
      "117\n",
      "142\n",
      "154\n",
      "154\n",
      "177\n",
      "139\n",
      "135\n",
      "193\n",
      "161\n",
      "175\n",
      "219\n",
      "214\n",
      "241\n",
      "264\n",
      "317\n",
      "322\n",
      "312\n",
      "333\n",
      "337\n",
      "354\n",
      "391\n",
      "432\n",
      "398\n",
      "345\n",
      "310\n",
      "284\n",
      "286\n",
      "274\n",
      "268\n",
      "261\n",
      "257\n",
      "296\n",
      "290\n",
      "325\n",
      "344\n",
      "301\n",
      "254\n",
      "302\n",
      "300\n",
      "337\n",
      "378\n",
      "421\n",
      "422\n",
      "436\n",
      "426\n",
      "457\n",
      "432\n",
      "430\n",
      "429\n",
      "419\n",
      "395\n",
      "413\n",
      "413\n",
      "450\n",
      "471\n",
      "407\n",
      "342\n",
      "371\n",
      "334\n",
      "351\n",
      "309\n",
      "266\n",
      "255\n",
      "187\n",
      "200\n",
      "231\n",
      "216\n",
      "244\n",
      "170\n",
      "173\n",
      "161\n",
      "171\n",
      "167\n",
      "143\n",
      "102\n",
      "109\n",
      "104\n",
      "71\n",
      "79\n",
      "48\n",
      "52\n",
      "20\n",
      "31\n",
      "20\n",
      "23\n",
      "5\n",
      "9\n",
      "4\n",
      "5\n",
      "3\n",
      "1\n",
      "2\n",
      "0\n"
     ]
    }
   ],
   "source": [
    "#4. 선택한 동네 데이터에서 0세부터 100세 이상까지의 인구수를 순서대로 저장한다.\n",
    "#row[0]은 지역명, row[1],row[2]는 총 인구수, row[3...]는 0세~100세 이상 인구수\n",
    "\n",
    "import csv\n",
    "f = open('age.csv')\n",
    "data = csv.reader(f)\n",
    "\n",
    "for row in data:\n",
    "    if '은행2동' in row[0]:\n",
    "        print(len(row[3:]), '개 구간이 출력됩니다.\\n>') #0세, 1, 2, 3, ... , 100세 이상까지 총 101개가 출력되어야 한다.\n",
    "        for i in row[3:]:\n",
    "            print(i)"
   ]
  },
  {
   "cell_type": "markdown",
   "id": "a6cb96b3",
   "metadata": {},
   "source": [
    "잘 출력된 것을 확인했다."
   ]
  },
  {
   "cell_type": "code",
   "execution_count": 28,
   "id": "df90c12a",
   "metadata": {},
   "outputs": [
    {
     "data": {
      "image/png": "[encoded data removed]",
      "text/plain": [
       "<Figure size 640x480 with 1 Axes>"
      ]
     },
     "metadata": {},
     "output_type": "display_data"
    }
   ],
   "source": [
    "#5. 저장된 연령별 인구수 데이터를 시각화한다.\n",
    "import csv\n",
    "import matplotlib.pyplot as plt\n",
    "plt.rc('font', family = 'Malgun Gothic')\n",
    "\n",
    "f = open('age.csv')\n",
    "data = csv.reader(f)\n",
    "\n",
    "result = []\n",
    "for row in data:\n",
    "    if '은행2동' in row[0]:\n",
    "        for i in row[3:]:\n",
    "            result.append(float(i))\n",
    "        \n",
    "plt.title('은행2동 연령별 인구수')\n",
    "plt.style.use('ggplot') #격자 무늬 스타일이다.\n",
    "plt.plot(result)\n",
    "plt.show()"
   ]
  },
  {
   "cell_type": "markdown",
   "id": "2774be0e",
   "metadata": {},
   "source": [
    "완벽하다ㅎㅎㅎ!"
   ]
  }
 ],
 "metadata": {
  "kernelspec": {
   "display_name": "Python 3 (ipykernel)",
   "language": "python",
   "name": "python3"
  },
  "language_info": {
   "codemirror_mode": {
    "name": "ipython",
    "version": 3
   },
   "file_extension": ".py",
   "mimetype": "text/x-python",
   "name": "python",
   "nbconvert_exporter": "python",
   "pygments_lexer": "ipython3",
   "version": "3.9.13"
  }
 },
 "nbformat": 4,
 "nbformat_minor": 5
}
